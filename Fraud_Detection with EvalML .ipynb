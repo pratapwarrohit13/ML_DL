{
 "cells": [
  {
   "cell_type": "code",
   "execution_count": 1,
   "id": "roman-planet",
   "metadata": {},
   "outputs": [
    {
     "name": "stdout",
     "output_type": "stream",
     "text": [
      "Requirement already satisfied: evalml in c:\\users\\rohit.pratapwar\\anaconda3\\lib\\site-packages (0.18.2)\n",
      "Requirement already satisfied: pyzmq<22.0.0 in c:\\users\\rohit.pratapwar\\anaconda3\\lib\\site-packages (from evalml) (20.0.0)\n",
      "Requirement already satisfied: featuretools>=0.20.0 in c:\\users\\rohit.pratapwar\\anaconda3\\lib\\site-packages (from evalml) (0.23.1)\n",
      "Requirement already satisfied: xgboost<1.3.0,>=0.82 in c:\\users\\rohit.pratapwar\\anaconda3\\lib\\site-packages (from evalml) (1.2.1)\n",
      "Requirement already satisfied: matplotlib>=3.3.3 in c:\\users\\rohit.pratapwar\\anaconda3\\lib\\site-packages (from evalml) (3.3.4)\n",
      "Requirement already satisfied: numpy>=1.19.1 in c:\\users\\rohit.pratapwar\\anaconda3\\lib\\site-packages (from evalml) (1.19.2)\n",
      "Requirement already satisfied: networkx>=2.5 in c:\\users\\rohit.pratapwar\\anaconda3\\lib\\site-packages (from evalml) (2.5)\n",
      "Requirement already satisfied: scipy>=1.2.1 in c:\\users\\rohit.pratapwar\\anaconda3\\lib\\site-packages (from evalml) (1.6.0)\n",
      "Requirement already satisfied: texttable>=1.6.2 in c:\\users\\rohit.pratapwar\\anaconda3\\lib\\site-packages (from evalml) (1.6.3)\n",
      "Requirement already satisfied: woodwork==0.0.7 in c:\\users\\rohit.pratapwar\\anaconda3\\lib\\site-packages (from evalml) (0.0.7)\n",
      "Requirement already satisfied: ipywidgets>=7.5 in c:\\users\\rohit.pratapwar\\anaconda3\\lib\\site-packages (from evalml) (7.6.3)\n",
      "Requirement already satisfied: catboost>=0.20 in c:\\users\\rohit.pratapwar\\anaconda3\\lib\\site-packages (from evalml) (0.24.4)\n",
      "Requirement already satisfied: kaleido>=0.1.0 in c:\\users\\rohit.pratapwar\\anaconda3\\lib\\site-packages (from evalml) (0.1.0.post1)\n",
      "Requirement already satisfied: psutil>=5.6.3 in c:\\users\\rohit.pratapwar\\anaconda3\\lib\\site-packages (from evalml) (5.8.0)\n",
      "Requirement already satisfied: scikit-learn>=0.23.1 in c:\\users\\rohit.pratapwar\\anaconda3\\lib\\site-packages (from evalml) (0.23.2)\n",
      "Requirement already satisfied: graphviz>=0.13 in c:\\users\\rohit.pratapwar\\anaconda3\\lib\\site-packages (from evalml) (0.16)\n",
      "Requirement already satisfied: scikit-optimize>=0.8.1 in c:\\users\\rohit.pratapwar\\anaconda3\\lib\\site-packages (from evalml) (0.8.1)\n",
      "Requirement already satisfied: shap>=0.35.0 in c:\\users\\rohit.pratapwar\\anaconda3\\lib\\site-packages (from evalml) (0.38.1)\n",
      "Requirement already satisfied: colorama in c:\\users\\rohit.pratapwar\\anaconda3\\lib\\site-packages (from evalml) (0.4.4)\n",
      "Requirement already satisfied: nlp-primitives>=1.1.0 in c:\\users\\rohit.pratapwar\\anaconda3\\lib\\site-packages (from evalml) (1.1.0)\n",
      "Requirement already satisfied: seaborn>=0.11.1 in c:\\users\\rohit.pratapwar\\anaconda3\\lib\\site-packages (from evalml) (0.11.1)\n",
      "Requirement already satisfied: category-encoders>=2.0.0 in c:\\users\\rohit.pratapwar\\anaconda3\\lib\\site-packages (from evalml) (2.2.2)\n",
      "Requirement already satisfied: click>=7.0.0 in c:\\users\\rohit.pratapwar\\anaconda3\\lib\\site-packages (from evalml) (7.1.2)\n",
      "Note: you may need to restart the kernel to use updated packages.Requirement already satisfied: requirements-parser>=0.2.0 in c:\\users\\rohit.pratapwar\\anaconda3\\lib\\site-packages (from evalml) (0.2.0)\n",
      "Collecting pandas<1.2.0,>=1.1.0\n",
      "  Using cached pandas-1.1.5-cp37-cp37m-win_amd64.whl (8.7 MB)\n",
      "Requirement already satisfied: cloudpickle>=0.2.2 in c:\\users\\rohit.pratapwar\\anaconda3\\lib\\site-packages (from evalml) (1.6.0)\n",
      "Requirement already satisfied: lightgbm<3.1.0,>=2.3.1 in c:\\users\\rohit.pratapwar\\anaconda3\\lib\\site-packages (from evalml) (3.0.0)\n",
      "Requirement already satisfied: plotly>=4.14.0 in c:\\users\\rohit.pratapwar\\anaconda3\\lib\\site-packages (from evalml) (4.14.3)\n",
      "Requirement already satisfied: pyarrow>=2.0.0 in c:\\users\\rohit.pratapwar\\anaconda3\\lib\\site-packages (from woodwork==0.0.7->evalml) (3.0.0)\n",
      "Requirement already satisfied: six in c:\\users\\rohit.pratapwar\\anaconda3\\lib\\site-packages (from catboost>=0.20->evalml) (1.15.0)\n",
      "Requirement already satisfied: patsy>=0.5.1 in c:\\users\\rohit.pratapwar\\anaconda3\\lib\\site-packages (from category-encoders>=2.0.0->evalml) (0.5.1)\n",
      "Requirement already satisfied: statsmodels>=0.9.0 in c:\\users\\rohit.pratapwar\\anaconda3\\lib\\site-packages (from category-encoders>=2.0.0->evalml) (0.12.1)\n",
      "Requirement already satisfied: dask[dataframe]>=2.12.0 in c:\\users\\rohit.pratapwar\\anaconda3\\lib\\site-packages (from featuretools>=0.20.0->evalml) (2021.1.1)\n",
      "Requirement already satisfied: pyyaml>=3.12 in c:\\users\\rohit.pratapwar\\anaconda3\\lib\\site-packages (from featuretools>=0.20.0->evalml) (5.3)\n",
      "Requirement already satisfied: tqdm>=4.32.0 in c:\\users\\rohit.pratapwar\\anaconda3\\lib\\site-packages (from featuretools>=0.20.0->evalml) (4.56.0)\n",
      "Requirement already satisfied: distributed>=2.12.0 in c:\\users\\rohit.pratapwar\\anaconda3\\lib\\site-packages (from featuretools>=0.20.0->evalml) (2021.1.1)\n",
      "Requirement already satisfied: toolz>=0.8.2 in c:\\users\\rohit.pratapwar\\anaconda3\\lib\\site-packages (from dask[dataframe]>=2.12.0->featuretools>=0.20.0->evalml) (0.11.1)\n",
      "Requirement already satisfied: fsspec>=0.6.0 in c:\\users\\rohit.pratapwar\\anaconda3\\lib\\site-packages (from dask[dataframe]>=2.12.0->featuretools>=0.20.0->evalml) (0.8.3)\n",
      "Requirement already satisfied: partd>=0.3.10 in c:\\users\\rohit.pratapwar\\anaconda3\\lib\\site-packages (from dask[dataframe]>=2.12.0->featuretools>=0.20.0->evalml) (1.1.0)\n",
      "Requirement already satisfied: msgpack>=0.6.0 in c:\\users\\rohit.pratapwar\\anaconda3\\lib\\site-packages (from distributed>=2.12.0->featuretools>=0.20.0->evalml) (1.0.2)\n",
      "Requirement already satisfied: tornado>=5 in c:\\users\\rohit.pratapwar\\anaconda3\\lib\\site-packages (from distributed>=2.12.0->featuretools>=0.20.0->evalml) (6.1)\n",
      "Requirement already satisfied: zict>=0.1.3 in c:\\users\\rohit.pratapwar\\anaconda3\\lib\\site-packages (from distributed>=2.12.0->featuretools>=0.20.0->evalml) (2.0.0)\n",
      "Requirement already satisfied: sortedcontainers!=2.0.0,!=2.0.1 in c:\\users\\rohit.pratapwar\\anaconda3\\lib\\site-packages (from distributed>=2.12.0->featuretools>=0.20.0->evalml) (2.3.0)\n",
      "Requirement already satisfied: tblib>=1.6.0 in c:\\users\\rohit.pratapwar\\anaconda3\\lib\\site-packages (from distributed>=2.12.0->featuretools>=0.20.0->evalml) (1.7.0)\n",
      "Requirement already satisfied: setuptools in c:\\users\\rohit.pratapwar\\anaconda3\\lib\\site-packages (from distributed>=2.12.0->featuretools>=0.20.0->evalml) (56.0.0)\n",
      "Requirement already satisfied: jupyterlab-widgets>=1.0.0 in c:\\users\\rohit.pratapwar\\anaconda3\\lib\\site-packages (from ipywidgets>=7.5->evalml) (1.0.0)\n",
      "Requirement already satisfied: widgetsnbextension~=3.5.0 in c:\\users\\rohit.pratapwar\\anaconda3\\lib\\site-packages (from ipywidgets>=7.5->evalml) (3.5.1)\n",
      "Requirement already satisfied: ipython>=4.0.0 in c:\\users\\rohit.pratapwar\\anaconda3\\lib\\site-packages (from ipywidgets>=7.5->evalml) (7.20.0)\n",
      "Requirement already satisfied: ipykernel>=4.5.1 in c:\\users\\rohit.pratapwar\\anaconda3\\lib\\site-packages (from ipywidgets>=7.5->evalml) (5.3.4)\n",
      "Requirement already satisfied: traitlets>=4.3.1 in c:\\users\\rohit.pratapwar\\anaconda3\\lib\\site-packages (from ipywidgets>=7.5->evalml) (5.0.5)\n",
      "\n"
     ]
    },
    {
     "name": "stderr",
     "output_type": "stream",
     "text": [
      "ERROR: pip's dependency resolver does not currently take into account all the packages that are installed. This behaviour is the source of the following dependency conflicts.\n",
      "automl 2.9.9 requires dill<0.3,>=0.2.5, but you have dill 0.3.3 which is incompatible.\n",
      "automl 2.9.9 requires lightgbm<2.1,>=2.0.11, but you have lightgbm 3.0.0 which is incompatible.\n",
      "automl 2.9.9 requires pandas<1.0,>=0.18.0, but you have pandas 1.1.5 which is incompatible.\n"
     ]
    },
    {
     "name": "stdout",
     "output_type": "stream",
     "text": [
      "Requirement already satisfied: nbformat>=4.2.0 in c:\\users\\rohit.pratapwar\\anaconda3\\lib\\site-packages (from ipywidgets>=7.5->evalml) (5.1.2)\n",
      "Requirement already satisfied: jupyter-client in c:\\users\\rohit.pratapwar\\anaconda3\\lib\\site-packages (from ipykernel>=4.5.1->ipywidgets>=7.5->evalml) (6.1.7)\n",
      "Requirement already satisfied: pygments in c:\\users\\rohit.pratapwar\\anaconda3\\lib\\site-packages (from ipython>=4.0.0->ipywidgets>=7.5->evalml) (2.7.4)\n",
      "Requirement already satisfied: pickleshare in c:\\users\\rohit.pratapwar\\anaconda3\\lib\\site-packages (from ipython>=4.0.0->ipywidgets>=7.5->evalml) (0.7.5)\n",
      "Requirement already satisfied: jedi>=0.16 in c:\\users\\rohit.pratapwar\\anaconda3\\lib\\site-packages (from ipython>=4.0.0->ipywidgets>=7.5->evalml) (0.18.0)\n",
      "Requirement already satisfied: prompt-toolkit!=3.0.0,!=3.0.1,<3.1.0,>=2.0.0 in c:\\users\\rohit.pratapwar\\anaconda3\\lib\\site-packages (from ipython>=4.0.0->ipywidgets>=7.5->evalml) (3.0.8)\n",
      "Requirement already satisfied: backcall in c:\\users\\rohit.pratapwar\\anaconda3\\lib\\site-packages (from ipython>=4.0.0->ipywidgets>=7.5->evalml) (0.2.0)\n",
      "Requirement already satisfied: decorator in c:\\users\\rohit.pratapwar\\anaconda3\\lib\\site-packages (from ipython>=4.0.0->ipywidgets>=7.5->evalml) (4.4.2)\n",
      "Requirement already satisfied: parso<0.9.0,>=0.8.0 in c:\\users\\rohit.pratapwar\\anaconda3\\lib\\site-packages (from jedi>=0.16->ipython>=4.0.0->ipywidgets>=7.5->evalml) (0.8.1)\n",
      "Requirement already satisfied: python-dateutil>=2.1 in c:\\users\\rohit.pratapwar\\anaconda3\\lib\\site-packages (from matplotlib>=3.3.3->evalml) (2.8.1)\n",
      "Requirement already satisfied: pillow>=6.2.0 in c:\\users\\rohit.pratapwar\\anaconda3\\lib\\site-packages (from matplotlib>=3.3.3->evalml) (8.1.0)\n",
      "Requirement already satisfied: pyparsing!=2.0.4,!=2.1.2,!=2.1.6,>=2.0.3 in c:\\users\\rohit.pratapwar\\anaconda3\\lib\\site-packages (from matplotlib>=3.3.3->evalml) (2.4.7)\n",
      "Requirement already satisfied: kiwisolver>=1.0.1 in c:\\users\\rohit.pratapwar\\anaconda3\\lib\\site-packages (from matplotlib>=3.3.3->evalml) (1.3.1)\n",
      "Requirement already satisfied: cycler>=0.10 in c:\\users\\rohit.pratapwar\\anaconda3\\lib\\site-packages (from matplotlib>=3.3.3->evalml) (0.10.0)\n",
      "Requirement already satisfied: ipython-genutils in c:\\users\\rohit.pratapwar\\anaconda3\\lib\\site-packages (from nbformat>=4.2.0->ipywidgets>=7.5->evalml) (0.2.0)\n",
      "Requirement already satisfied: jupyter-core in c:\\users\\rohit.pratapwar\\anaconda3\\lib\\site-packages (from nbformat>=4.2.0->ipywidgets>=7.5->evalml) (4.7.1)\n",
      "Requirement already satisfied: jsonschema!=2.5.0,>=2.4 in c:\\users\\rohit.pratapwar\\anaconda3\\lib\\site-packages (from nbformat>=4.2.0->ipywidgets>=7.5->evalml) (3.2.0)\n",
      "Requirement already satisfied: attrs>=17.4.0 in c:\\users\\rohit.pratapwar\\anaconda3\\lib\\site-packages (from jsonschema!=2.5.0,>=2.4->nbformat>=4.2.0->ipywidgets>=7.5->evalml) (20.3.0)\n",
      "Requirement already satisfied: pyrsistent>=0.14.0 in c:\\users\\rohit.pratapwar\\anaconda3\\lib\\site-packages (from jsonschema!=2.5.0,>=2.4->nbformat>=4.2.0->ipywidgets>=7.5->evalml) (0.17.3)\n",
      "Requirement already satisfied: importlib-metadata in c:\\users\\rohit.pratapwar\\anaconda3\\lib\\site-packages (from jsonschema!=2.5.0,>=2.4->nbformat>=4.2.0->ipywidgets>=7.5->evalml) (2.0.0)\n",
      "Requirement already satisfied: nltk>=3.4.5 in c:\\users\\rohit.pratapwar\\anaconda3\\lib\\site-packages (from nlp-primitives>=1.1.0->evalml) (3.5)\n",
      "Requirement already satisfied: regex in c:\\users\\rohit.pratapwar\\anaconda3\\lib\\site-packages (from nltk>=3.4.5->nlp-primitives>=1.1.0->evalml) (2020.11.13)\n",
      "Requirement already satisfied: joblib in c:\\users\\rohit.pratapwar\\anaconda3\\lib\\site-packages (from nltk>=3.4.5->nlp-primitives>=1.1.0->evalml) (1.0.0)\n",
      "Requirement already satisfied: pytz>=2017.2 in c:\\users\\rohit.pratapwar\\anaconda3\\lib\\site-packages (from pandas<1.2.0,>=1.1.0->evalml) (2021.1)\n",
      "Requirement already satisfied: locket in c:\\users\\rohit.pratapwar\\anaconda3\\lib\\site-packages\\locket-0.2.1-py3.7.egg (from partd>=0.3.10->dask[dataframe]>=2.12.0->featuretools>=0.20.0->evalml) (0.2.1)\n",
      "Requirement already satisfied: retrying>=1.3.3 in c:\\users\\rohit.pratapwar\\anaconda3\\lib\\site-packages (from plotly>=4.14.0->evalml) (1.3.3)\n",
      "Requirement already satisfied: wcwidth in c:\\users\\rohit.pratapwar\\anaconda3\\lib\\site-packages (from prompt-toolkit!=3.0.0,!=3.0.1,<3.1.0,>=2.0.0->ipython>=4.0.0->ipywidgets>=7.5->evalml) (0.2.5)\n",
      "Requirement already satisfied: threadpoolctl>=2.0.0 in c:\\users\\rohit.pratapwar\\anaconda3\\lib\\site-packages (from scikit-learn>=0.23.1->evalml) (2.1.0)\n",
      "Requirement already satisfied: pyaml>=16.9 in c:\\users\\rohit.pratapwar\\anaconda3\\lib\\site-packages (from scikit-optimize>=0.8.1->evalml) (20.4.0)\n",
      "Requirement already satisfied: numba in c:\\users\\rohit.pratapwar\\anaconda3\\lib\\site-packages (from shap>=0.35.0->evalml) (0.51.2)\n",
      "Requirement already satisfied: slicer==0.0.7 in c:\\users\\rohit.pratapwar\\anaconda3\\lib\\site-packages (from shap>=0.35.0->evalml) (0.0.7)\n",
      "Requirement already satisfied: notebook>=4.4.1 in c:\\users\\rohit.pratapwar\\anaconda3\\lib\\site-packages (from widgetsnbextension~=3.5.0->ipywidgets>=7.5->evalml) (6.2.0)\n",
      "Requirement already satisfied: nbconvert in c:\\users\\rohit.pratapwar\\anaconda3\\lib\\site-packages (from notebook>=4.4.1->widgetsnbextension~=3.5.0->ipywidgets>=7.5->evalml) (6.0.7)\n",
      "Requirement already satisfied: Send2Trash>=1.5.0 in c:\\users\\rohit.pratapwar\\anaconda3\\lib\\site-packages (from notebook>=4.4.1->widgetsnbextension~=3.5.0->ipywidgets>=7.5->evalml) (1.5.0)\n",
      "Requirement already satisfied: terminado>=0.8.3 in c:\\users\\rohit.pratapwar\\anaconda3\\lib\\site-packages (from notebook>=4.4.1->widgetsnbextension~=3.5.0->ipywidgets>=7.5->evalml) (0.9.2)\n",
      "Requirement already satisfied: jinja2 in c:\\users\\rohit.pratapwar\\anaconda3\\lib\\site-packages (from notebook>=4.4.1->widgetsnbextension~=3.5.0->ipywidgets>=7.5->evalml) (2.11.3)\n",
      "Requirement already satisfied: prometheus-client in c:\\users\\rohit.pratapwar\\anaconda3\\lib\\site-packages (from notebook>=4.4.1->widgetsnbextension~=3.5.0->ipywidgets>=7.5->evalml) (0.9.0)\n",
      "Requirement already satisfied: argon2-cffi in c:\\users\\rohit.pratapwar\\anaconda3\\lib\\site-packages (from notebook>=4.4.1->widgetsnbextension~=3.5.0->ipywidgets>=7.5->evalml) (20.1.0)\n",
      "Requirement already satisfied: pywin32>=1.0 in c:\\users\\rohit.pratapwar\\anaconda3\\lib\\site-packages (from jupyter-core->nbformat>=4.2.0->ipywidgets>=7.5->evalml) (227)\n",
      "Requirement already satisfied: pywinpty>=0.5 in c:\\users\\rohit.pratapwar\\anaconda3\\lib\\site-packages (from terminado>=0.8.3->notebook>=4.4.1->widgetsnbextension~=3.5.0->ipywidgets>=7.5->evalml) (0.5.7)\n",
      "Requirement already satisfied: heapdict in c:\\users\\rohit.pratapwar\\anaconda3\\lib\\site-packages (from zict>=0.1.3->distributed>=2.12.0->featuretools>=0.20.0->evalml) (1.0.1)\n",
      "Requirement already satisfied: cffi>=1.0.0 in c:\\users\\rohit.pratapwar\\anaconda3\\lib\\site-packages (from argon2-cffi->notebook>=4.4.1->widgetsnbextension~=3.5.0->ipywidgets>=7.5->evalml) (1.14.4)\n",
      "Requirement already satisfied: pycparser in c:\\users\\rohit.pratapwar\\anaconda3\\lib\\site-packages (from cffi>=1.0.0->argon2-cffi->notebook>=4.4.1->widgetsnbextension~=3.5.0->ipywidgets>=7.5->evalml) (2.20)\n",
      "Requirement already satisfied: zipp>=0.5 in c:\\users\\rohit.pratapwar\\anaconda3\\lib\\site-packages (from importlib-metadata->jsonschema!=2.5.0,>=2.4->nbformat>=4.2.0->ipywidgets>=7.5->evalml) (3.4.0)\n",
      "Requirement already satisfied: MarkupSafe>=0.23 in c:\\users\\rohit.pratapwar\\anaconda3\\lib\\site-packages (from jinja2->notebook>=4.4.1->widgetsnbextension~=3.5.0->ipywidgets>=7.5->evalml) (1.1.1)\n",
      "Requirement already satisfied: pandocfilters>=1.4.1 in c:\\users\\rohit.pratapwar\\anaconda3\\lib\\site-packages (from nbconvert->notebook>=4.4.1->widgetsnbextension~=3.5.0->ipywidgets>=7.5->evalml) (1.4.3)\n",
      "Requirement already satisfied: defusedxml in c:\\users\\rohit.pratapwar\\anaconda3\\lib\\site-packages (from nbconvert->notebook>=4.4.1->widgetsnbextension~=3.5.0->ipywidgets>=7.5->evalml) (0.6.0)\n",
      "Requirement already satisfied: nbclient<0.6.0,>=0.5.0 in c:\\users\\rohit.pratapwar\\anaconda3\\lib\\site-packages (from nbconvert->notebook>=4.4.1->widgetsnbextension~=3.5.0->ipywidgets>=7.5->evalml) (0.5.1)\n",
      "Requirement already satisfied: entrypoints>=0.2.2 in c:\\users\\rohit.pratapwar\\anaconda3\\lib\\site-packages (from nbconvert->notebook>=4.4.1->widgetsnbextension~=3.5.0->ipywidgets>=7.5->evalml) (0.3)\n",
      "Requirement already satisfied: jupyterlab-pygments in c:\\users\\rohit.pratapwar\\anaconda3\\lib\\site-packages (from nbconvert->notebook>=4.4.1->widgetsnbextension~=3.5.0->ipywidgets>=7.5->evalml) (0.1.2)\n",
      "Requirement already satisfied: bleach in c:\\users\\rohit.pratapwar\\anaconda3\\lib\\site-packages (from nbconvert->notebook>=4.4.1->widgetsnbextension~=3.5.0->ipywidgets>=7.5->evalml) (3.3.0)\n",
      "Requirement already satisfied: testpath in c:\\users\\rohit.pratapwar\\anaconda3\\lib\\site-packages (from nbconvert->notebook>=4.4.1->widgetsnbextension~=3.5.0->ipywidgets>=7.5->evalml) (0.4.4)\n",
      "Requirement already satisfied: mistune<2,>=0.8.1 in c:\\users\\rohit.pratapwar\\anaconda3\\lib\\site-packages (from nbconvert->notebook>=4.4.1->widgetsnbextension~=3.5.0->ipywidgets>=7.5->evalml) (0.8.4)\n",
      "Requirement already satisfied: nest-asyncio in c:\\users\\rohit.pratapwar\\anaconda3\\lib\\site-packages (from nbclient<0.6.0,>=0.5.0->nbconvert->notebook>=4.4.1->widgetsnbextension~=3.5.0->ipywidgets>=7.5->evalml) (1.4.3)\n",
      "Requirement already satisfied: async-generator in c:\\users\\rohit.pratapwar\\anaconda3\\lib\\site-packages (from nbclient<0.6.0,>=0.5.0->nbconvert->notebook>=4.4.1->widgetsnbextension~=3.5.0->ipywidgets>=7.5->evalml) (1.10)\n",
      "Requirement already satisfied: packaging in c:\\users\\rohit.pratapwar\\anaconda3\\lib\\site-packages (from bleach->nbconvert->notebook>=4.4.1->widgetsnbextension~=3.5.0->ipywidgets>=7.5->evalml) (20.9)\n",
      "Requirement already satisfied: webencodings in c:\\users\\rohit.pratapwar\\anaconda3\\lib\\site-packages (from bleach->nbconvert->notebook>=4.4.1->widgetsnbextension~=3.5.0->ipywidgets>=7.5->evalml) (0.5.1)\n",
      "Requirement already satisfied: llvmlite<0.35,>=0.34.0.dev0 in c:\\users\\rohit.pratapwar\\anaconda3\\lib\\site-packages (from numba->shap>=0.35.0->evalml) (0.34.0)\n",
      "Installing collected packages: pandas\n",
      "  Attempting uninstall: pandas\n",
      "    Found existing installation: pandas 1.2.3\n",
      "    Uninstalling pandas-1.2.3:\n",
      "      Successfully uninstalled pandas-1.2.3\n",
      "Successfully installed pandas-1.1.5\n"
     ]
    }
   ],
   "source": [
    "pip install evalml"
   ]
  },
  {
   "cell_type": "code",
   "execution_count": 2,
   "id": "infinite-westminster",
   "metadata": {},
   "outputs": [],
   "source": [
    "import evalml\n",
    "from evalml import AutoMLSearch\n",
    "from evalml.objectives import FraudCost"
   ]
  },
  {
   "cell_type": "code",
   "execution_count": 3,
   "id": "industrial-costs",
   "metadata": {},
   "outputs": [],
   "source": [
    "fraud_objectives = FraudCost(retry_percentage=0.5,interchange_fee=0.02,fraud_payout_percentage=.75,amount_col='amount')"
   ]
  },
  {
   "cell_type": "code",
   "execution_count": 4,
   "id": "missing-frost",
   "metadata": {},
   "outputs": [
    {
     "name": "stdout",
     "output_type": "stream",
     "text": [
      "             Number of Features\n",
      "Boolean                       1\n",
      "Categorical                   6\n",
      "Numeric                       5\n",
      "\n",
      "Number of training examples: 10000\n",
      "Targets\n",
      "False    85.30%\n",
      "True     14.70%\n",
      "Name: fraud, dtype: object\n"
     ]
    }
   ],
   "source": [
    "features,target = evalml.demos.load_fraud(n_rows=10000)"
   ]
  },
  {
   "cell_type": "code",
   "execution_count": 5,
   "id": "monetary-alexander",
   "metadata": {},
   "outputs": [],
   "source": [
    "cols_to_drop = ['datetime', 'expiration_date', 'country', 'region', 'provider']"
   ]
  },
  {
   "cell_type": "code",
   "execution_count": 6,
   "id": "innocent-carol",
   "metadata": {},
   "outputs": [],
   "source": [
    "for col in cols_to_drop:\n",
    "    features.pop(col)"
   ]
  },
  {
   "cell_type": "code",
   "execution_count": 7,
   "id": "industrial-linux",
   "metadata": {},
   "outputs": [],
   "source": [
    "features_train,features_test,target_train,target_test = evalml.preprocessing.split_data(features,target,problem_type='binary',test_size=0.2)"
   ]
  },
  {
   "cell_type": "code",
   "execution_count": 8,
   "id": "signal-breach",
   "metadata": {},
   "outputs": [
    {
     "name": "stdout",
     "output_type": "stream",
     "text": [
      "                 Physical Type Logical Type Semantic Tag(s)\n",
      "Data Column                                                \n",
      "card_id                  Int64      Integer     ['numeric']\n",
      "store_id                 Int64      Integer     ['numeric']\n",
      "amount                   Int64      Integer     ['numeric']\n",
      "currency              category  Categorical    ['category']\n",
      "customer_present       boolean      Boolean              []\n",
      "lat                    float64       Double     ['numeric']\n",
      "lng                    float64       Double     ['numeric']\n"
     ]
    }
   ],
   "source": [
    "print(features.types)"
   ]
  },
  {
   "cell_type": "code",
   "execution_count": 9,
   "id": "turned-lindsay",
   "metadata": {},
   "outputs": [
    {
     "data": {
      "text/html": [
       "<div>\n",
       "<style scoped>\n",
       "    .dataframe tbody tr th:only-of-type {\n",
       "        vertical-align: middle;\n",
       "    }\n",
       "\n",
       "    .dataframe tbody tr th {\n",
       "        vertical-align: top;\n",
       "    }\n",
       "\n",
       "    .dataframe thead tr th {\n",
       "        text-align: left;\n",
       "    }\n",
       "\n",
       "    .dataframe thead tr:last-of-type th {\n",
       "        text-align: right;\n",
       "    }\n",
       "</style>\n",
       "<table border=\"1\" class=\"dataframe\">\n",
       "  <thead>\n",
       "    <tr>\n",
       "      <th>Data Column</th>\n",
       "      <th>card_id</th>\n",
       "      <th>store_id</th>\n",
       "      <th>amount</th>\n",
       "      <th>currency</th>\n",
       "      <th>customer_present</th>\n",
       "      <th>lat</th>\n",
       "      <th>lng</th>\n",
       "    </tr>\n",
       "    <tr>\n",
       "      <th>Physical Type</th>\n",
       "      <th>Int64</th>\n",
       "      <th>Int64</th>\n",
       "      <th>Int64</th>\n",
       "      <th>category</th>\n",
       "      <th>boolean</th>\n",
       "      <th>float64</th>\n",
       "      <th>float64</th>\n",
       "    </tr>\n",
       "    <tr>\n",
       "      <th>Logical Type</th>\n",
       "      <th>Integer</th>\n",
       "      <th>Integer</th>\n",
       "      <th>Integer</th>\n",
       "      <th>Categorical</th>\n",
       "      <th>Boolean</th>\n",
       "      <th>Double</th>\n",
       "      <th>Double</th>\n",
       "    </tr>\n",
       "    <tr>\n",
       "      <th>Semantic Tag(s)</th>\n",
       "      <th>['numeric']</th>\n",
       "      <th>['numeric']</th>\n",
       "      <th>['numeric']</th>\n",
       "      <th>['category']</th>\n",
       "      <th>[]</th>\n",
       "      <th>['numeric']</th>\n",
       "      <th>['numeric']</th>\n",
       "    </tr>\n",
       "    <tr>\n",
       "      <th>id</th>\n",
       "      <th></th>\n",
       "      <th></th>\n",
       "      <th></th>\n",
       "      <th></th>\n",
       "      <th></th>\n",
       "      <th></th>\n",
       "      <th></th>\n",
       "    </tr>\n",
       "  </thead>\n",
       "  <tbody>\n",
       "    <tr>\n",
       "      <th>0</th>\n",
       "      <td>32261</td>\n",
       "      <td>8516</td>\n",
       "      <td>24900</td>\n",
       "      <td>CUC</td>\n",
       "      <td>True</td>\n",
       "      <td>38.58894</td>\n",
       "      <td>-89.99038</td>\n",
       "    </tr>\n",
       "    <tr>\n",
       "      <th>1</th>\n",
       "      <td>16434</td>\n",
       "      <td>8516</td>\n",
       "      <td>15789</td>\n",
       "      <td>MYR</td>\n",
       "      <td>False</td>\n",
       "      <td>38.58894</td>\n",
       "      <td>-89.99038</td>\n",
       "    </tr>\n",
       "    <tr>\n",
       "      <th>2</th>\n",
       "      <td>23468</td>\n",
       "      <td>8516</td>\n",
       "      <td>1883</td>\n",
       "      <td>AUD</td>\n",
       "      <td>False</td>\n",
       "      <td>38.58894</td>\n",
       "      <td>-89.99038</td>\n",
       "    </tr>\n",
       "    <tr>\n",
       "      <th>3</th>\n",
       "      <td>14364</td>\n",
       "      <td>8516</td>\n",
       "      <td>82120</td>\n",
       "      <td>KRW</td>\n",
       "      <td>True</td>\n",
       "      <td>38.58894</td>\n",
       "      <td>-89.99038</td>\n",
       "    </tr>\n",
       "    <tr>\n",
       "      <th>4</th>\n",
       "      <td>29407</td>\n",
       "      <td>8516</td>\n",
       "      <td>25745</td>\n",
       "      <td>MUR</td>\n",
       "      <td>True</td>\n",
       "      <td>38.58894</td>\n",
       "      <td>-89.99038</td>\n",
       "    </tr>\n",
       "  </tbody>\n",
       "</table>\n",
       "</div>"
      ],
      "text/plain": [
       "Data Column         card_id    store_id  ...         lat         lng\n",
       "Physical Type         Int64       Int64  ...     float64     float64\n",
       "Logical Type        Integer     Integer  ...      Double      Double\n",
       "Semantic Tag(s) ['numeric'] ['numeric']  ... ['numeric'] ['numeric']\n",
       "id                                       ...                        \n",
       "0                     32261        8516  ...    38.58894   -89.99038\n",
       "1                     16434        8516  ...    38.58894   -89.99038\n",
       "2                     23468        8516  ...    38.58894   -89.99038\n",
       "3                     14364        8516  ...    38.58894   -89.99038\n",
       "4                     29407        8516  ...    38.58894   -89.99038\n",
       "\n",
       "[5 rows x 7 columns]"
      ]
     },
     "execution_count": 9,
     "metadata": {},
     "output_type": "execute_result"
    }
   ],
   "source": [
    "features.head()"
   ]
  },
  {
   "cell_type": "code",
   "execution_count": 10,
   "id": "defensive-advance",
   "metadata": {},
   "outputs": [],
   "source": [
    "automl = AutoMLSearch(X_train=features_train,y_train=target_train,problem_type='binary',objective=fraud_objectives,\n",
    "                     additional_objectives=['auc','f1','precision'],\n",
    "                     max_batches = 1, optimize_thresholds=True)"
   ]
  },
  {
   "cell_type": "code",
   "execution_count": 11,
   "id": "requested-baltimore",
   "metadata": {},
   "outputs": [
    {
     "name": "stdout",
     "output_type": "stream",
     "text": [
      "Generating pipelines to search over...\n",
      "*****************************\n",
      "* Beginning pipeline search *\n",
      "*****************************\n",
      "\n",
      "Optimizing for Fraud Cost. \n",
      "Lower score is better.\n",
      "\n",
      "Searching up to 1 batches for a total of 9 pipelines. \n",
      "Allowed model families: linear_model, xgboost, extra_trees, catboost, random_forest, decision_tree, lightgbm\n",
      "\n"
     ]
    },
    {
     "data": {
      "application/vnd.jupyter.widget-view+json": {
       "model_id": "81f72005ca8d451981222a879c92140c",
       "version_major": 2,
       "version_minor": 0
      },
      "text/plain": [
       "FigureWidget({\n",
       "    'data': [{'mode': 'lines+markers',\n",
       "              'name': 'Best Score',\n",
       "              'type'…"
      ]
     },
     "metadata": {},
     "output_type": "display_data"
    },
    {
     "name": "stdout",
     "output_type": "stream",
     "text": [
      "Batch 1: (1/9) Mode Baseline Binary Classification P... Elapsed:00:00\n",
      "\tStarting cross validation\n",
      "\tFinished cross validation - mean Fraud Cost: 0.040\n",
      "Batch 1: (2/9) Logistic Regression Classifier w/ Imp... Elapsed:00:01\n",
      "\tStarting cross validation\n",
      "\tFinished cross validation - mean Fraud Cost: 0.040\n",
      "Batch 1: (3/9) Random Forest Classifier w/ Imputer +... Elapsed:00:10\n",
      "\tStarting cross validation\n",
      "\tFinished cross validation - mean Fraud Cost: 0.002\n",
      "Batch 1: (4/9) XGBoost Classifier w/ Imputer + One H... Elapsed:00:15\n",
      "\tStarting cross validation\n",
      "\tFinished cross validation - mean Fraud Cost: 0.028\n",
      "High coefficient of variation (cv >= 0.2) within cross validation scores. XGBoost Classifier w/ Imputer + One Hot Encoder may not perform as estimated on unseen data.\n",
      "Batch 1: (5/9) CatBoost Classifier w/ Imputer           Elapsed:00:18\n",
      "\tStarting cross validation\n",
      "\tFinished cross validation - mean Fraud Cost: 0.002\n",
      "Batch 1: (6/9) Elastic Net Classifier w/ Imputer + O... Elapsed:00:21\n",
      "\tStarting cross validation\n",
      "\tFinished cross validation - mean Fraud Cost: 0.002\n",
      "Batch 1: (7/9) Extra Trees Classifier w/ Imputer + O... Elapsed:00:24\n",
      "\tStarting cross validation\n",
      "\tFinished cross validation - mean Fraud Cost: 0.017\n",
      "High coefficient of variation (cv >= 0.2) within cross validation scores. Extra Trees Classifier w/ Imputer + One Hot Encoder may not perform as estimated on unseen data.\n",
      "Batch 1: (8/9) LightGBM Classifier w/ Imputer + One ... Elapsed:00:28\n",
      "\tStarting cross validation\n",
      "\tFinished cross validation - mean Fraud Cost: 0.039\n",
      "Batch 1: (9/9) Decision Tree Classifier w/ Imputer +... Elapsed:00:30\n",
      "\tStarting cross validation\n",
      "\tFinished cross validation - mean Fraud Cost: 0.018\n",
      "High coefficient of variation (cv >= 0.2) within cross validation scores. Decision Tree Classifier w/ Imputer + One Hot Encoder may not perform as estimated on unseen data.\n",
      "\n",
      "Search finished after 00:32            \n",
      "Best pipeline: Random Forest Classifier w/ Imputer + One Hot Encoder\n",
      "Best pipeline Fraud Cost: 0.002104\n"
     ]
    }
   ],
   "source": [
    "automl.search()"
   ]
  },
  {
   "cell_type": "code",
   "execution_count": 12,
   "id": "nutritional-things",
   "metadata": {},
   "outputs": [
    {
     "data": {
      "text/html": [
       "<div>\n",
       "<style scoped>\n",
       "    .dataframe tbody tr th:only-of-type {\n",
       "        vertical-align: middle;\n",
       "    }\n",
       "\n",
       "    .dataframe tbody tr th {\n",
       "        vertical-align: top;\n",
       "    }\n",
       "\n",
       "    .dataframe thead th {\n",
       "        text-align: right;\n",
       "    }\n",
       "</style>\n",
       "<table border=\"1\" class=\"dataframe\">\n",
       "  <thead>\n",
       "    <tr style=\"text-align: right;\">\n",
       "      <th></th>\n",
       "      <th>id</th>\n",
       "      <th>pipeline_name</th>\n",
       "      <th>score</th>\n",
       "      <th>validation_score</th>\n",
       "      <th>percent_better_than_baseline</th>\n",
       "      <th>high_variance_cv</th>\n",
       "      <th>parameters</th>\n",
       "    </tr>\n",
       "  </thead>\n",
       "  <tbody>\n",
       "    <tr>\n",
       "      <th>0</th>\n",
       "      <td>2</td>\n",
       "      <td>Random Forest Classifier w/ Imputer + One Hot ...</td>\n",
       "      <td>0.002104</td>\n",
       "      <td>0.002285</td>\n",
       "      <td>94.801712</td>\n",
       "      <td>False</td>\n",
       "      <td>{'Imputer': {'categorical_impute_strategy': 'm...</td>\n",
       "    </tr>\n",
       "    <tr>\n",
       "      <th>1</th>\n",
       "      <td>4</td>\n",
       "      <td>CatBoost Classifier w/ Imputer</td>\n",
       "      <td>0.002104</td>\n",
       "      <td>0.002285</td>\n",
       "      <td>94.801712</td>\n",
       "      <td>False</td>\n",
       "      <td>{'Imputer': {'categorical_impute_strategy': 'm...</td>\n",
       "    </tr>\n",
       "    <tr>\n",
       "      <th>2</th>\n",
       "      <td>5</td>\n",
       "      <td>Elastic Net Classifier w/ Imputer + One Hot En...</td>\n",
       "      <td>0.002104</td>\n",
       "      <td>0.002285</td>\n",
       "      <td>94.801712</td>\n",
       "      <td>False</td>\n",
       "      <td>{'Imputer': {'categorical_impute_strategy': 'm...</td>\n",
       "    </tr>\n",
       "    <tr>\n",
       "      <th>3</th>\n",
       "      <td>6</td>\n",
       "      <td>Extra Trees Classifier w/ Imputer + One Hot En...</td>\n",
       "      <td>0.016676</td>\n",
       "      <td>0.046003</td>\n",
       "      <td>58.793775</td>\n",
       "      <td>True</td>\n",
       "      <td>{'Imputer': {'categorical_impute_strategy': 'm...</td>\n",
       "    </tr>\n",
       "    <tr>\n",
       "      <th>4</th>\n",
       "      <td>8</td>\n",
       "      <td>Decision Tree Classifier w/ Imputer + One Hot ...</td>\n",
       "      <td>0.017532</td>\n",
       "      <td>0.046003</td>\n",
       "      <td>56.679694</td>\n",
       "      <td>True</td>\n",
       "      <td>{'Imputer': {'categorical_impute_strategy': 'm...</td>\n",
       "    </tr>\n",
       "    <tr>\n",
       "      <th>5</th>\n",
       "      <td>3</td>\n",
       "      <td>XGBoost Classifier w/ Imputer + One Hot Encoder</td>\n",
       "      <td>0.028438</td>\n",
       "      <td>0.046003</td>\n",
       "      <td>29.732253</td>\n",
       "      <td>True</td>\n",
       "      <td>{'Imputer': {'categorical_impute_strategy': 'm...</td>\n",
       "    </tr>\n",
       "    <tr>\n",
       "      <th>6</th>\n",
       "      <td>7</td>\n",
       "      <td>LightGBM Classifier w/ Imputer + One Hot Encoder</td>\n",
       "      <td>0.038657</td>\n",
       "      <td>0.046003</td>\n",
       "      <td>4.482635</td>\n",
       "      <td>False</td>\n",
       "      <td>{'Imputer': {'categorical_impute_strategy': 'm...</td>\n",
       "    </tr>\n",
       "    <tr>\n",
       "      <th>7</th>\n",
       "      <td>1</td>\n",
       "      <td>Logistic Regression Classifier w/ Imputer + On...</td>\n",
       "      <td>0.040264</td>\n",
       "      <td>0.046003</td>\n",
       "      <td>0.511060</td>\n",
       "      <td>False</td>\n",
       "      <td>{'Imputer': {'categorical_impute_strategy': 'm...</td>\n",
       "    </tr>\n",
       "    <tr>\n",
       "      <th>8</th>\n",
       "      <td>0</td>\n",
       "      <td>Mode Baseline Binary Classification Pipeline</td>\n",
       "      <td>0.040471</td>\n",
       "      <td>0.046003</td>\n",
       "      <td>0.000000</td>\n",
       "      <td>False</td>\n",
       "      <td>{'Baseline Classifier': {'strategy': 'mode'}}</td>\n",
       "    </tr>\n",
       "  </tbody>\n",
       "</table>\n",
       "</div>"
      ],
      "text/plain": [
       "   id  ...                                         parameters\n",
       "0   2  ...  {'Imputer': {'categorical_impute_strategy': 'm...\n",
       "1   4  ...  {'Imputer': {'categorical_impute_strategy': 'm...\n",
       "2   5  ...  {'Imputer': {'categorical_impute_strategy': 'm...\n",
       "3   6  ...  {'Imputer': {'categorical_impute_strategy': 'm...\n",
       "4   8  ...  {'Imputer': {'categorical_impute_strategy': 'm...\n",
       "5   3  ...  {'Imputer': {'categorical_impute_strategy': 'm...\n",
       "6   7  ...  {'Imputer': {'categorical_impute_strategy': 'm...\n",
       "7   1  ...  {'Imputer': {'categorical_impute_strategy': 'm...\n",
       "8   0  ...      {'Baseline Classifier': {'strategy': 'mode'}}\n",
       "\n",
       "[9 rows x 7 columns]"
      ]
     },
     "execution_count": 12,
     "metadata": {},
     "output_type": "execute_result"
    }
   ],
   "source": [
    "automl.rankings"
   ]
  },
  {
   "cell_type": "code",
   "execution_count": 13,
   "id": "accepted-configuration",
   "metadata": {},
   "outputs": [],
   "source": [
    "best_pipeline = automl.best_pipeline"
   ]
  },
  {
   "cell_type": "code",
   "execution_count": 15,
   "id": "complimentary-agreement",
   "metadata": {},
   "outputs": [
    {
     "name": "stdout",
     "output_type": "stream",
     "text": [
      "**********************************\n",
      "* CatBoost Classifier w/ Imputer *\n",
      "**********************************\n",
      "\n",
      "Problem Type: binary\n",
      "Model Family: CatBoost\n",
      "\n",
      "Pipeline Steps\n",
      "==============\n",
      "1. Imputer\n",
      "\t * categorical_impute_strategy : most_frequent\n",
      "\t * numeric_impute_strategy : mean\n",
      "\t * categorical_fill_value : None\n",
      "\t * numeric_fill_value : None\n",
      "2. CatBoost Classifier\n",
      "\t * n_estimators : 10\n",
      "\t * eta : 0.03\n",
      "\t * max_depth : 6\n",
      "\t * bootstrap_type : None\n",
      "\t * silent : True\n",
      "\t * allow_writing_files : False\n",
      "\n",
      "Training\n",
      "========\n",
      "Training for binary problems.\n",
      "Objective to optimize binary classification pipeline thresholds for: <evalml.objectives.fraud_cost.FraudCost object at 0x00000217F978C848>\n",
      "Total training time (including CV): 2.8 seconds\n",
      "\n",
      "Cross Validation\n",
      "----------------\n",
      "             Fraud Cost   AUC    F1  Precision # Training # Validation\n",
      "0                 0.002 0.859 0.256      0.147   4266.000     2667.000\n",
      "1                 0.002 0.844 0.256      0.147   4266.000     2667.000\n",
      "2                 0.002 0.841 0.256      0.147   4267.000     2666.000\n",
      "mean              0.002 0.848 0.256      0.147          -            -\n",
      "std               0.000 0.010 0.000      0.000          -            -\n",
      "coef of var       0.085 0.011 0.000      0.000          -            -\n"
     ]
    }
   ],
   "source": [
    "automl.describe_pipeline(automl.rankings.iloc[1]['id'])"
   ]
  },
  {
   "cell_type": "code",
   "execution_count": 16,
   "id": "sharp-criticism",
   "metadata": {},
   "outputs": [
    {
     "data": {
      "text/plain": [
       "OrderedDict([('AUC', 0.8680626998747917),\n",
       "             ('Fraud Cost', 0.0014668699644176933)])"
      ]
     },
     "execution_count": 16,
     "metadata": {},
     "output_type": "execute_result"
    }
   ],
   "source": [
    "best_pipeline.score(features_test,target_test,objectives=['auc',fraud_objectives])"
   ]
  },
  {
   "cell_type": "code",
   "execution_count": 17,
   "id": "stretch-community",
   "metadata": {},
   "outputs": [],
   "source": [
    "automl_auc = AutoMLSearch(X_train=features_train,y_train=target_train,problem_type='binary',\n",
    "                         objective='auc',\n",
    "                         additional_objectives=['f1','precision'],\n",
    "                         max_batches=1,\n",
    "                         optimize_thresholds=True)"
   ]
  },
  {
   "cell_type": "code",
   "execution_count": 18,
   "id": "dangerous-chess",
   "metadata": {},
   "outputs": [
    {
     "name": "stdout",
     "output_type": "stream",
     "text": [
      "Generating pipelines to search over...\n",
      "*****************************\n",
      "* Beginning pipeline search *\n",
      "*****************************\n",
      "\n",
      "Optimizing for AUC. \n",
      "Greater score is better.\n",
      "\n",
      "Searching up to 1 batches for a total of 9 pipelines. \n",
      "Allowed model families: linear_model, xgboost, extra_trees, catboost, random_forest, decision_tree, lightgbm\n",
      "\n"
     ]
    },
    {
     "data": {
      "application/vnd.jupyter.widget-view+json": {
       "model_id": "c01af2656ffa4ffebe7c9c33457a4fc4",
       "version_major": 2,
       "version_minor": 0
      },
      "text/plain": [
       "FigureWidget({\n",
       "    'data': [{'mode': 'lines+markers',\n",
       "              'name': 'Best Score',\n",
       "              'type'…"
      ]
     },
     "metadata": {},
     "output_type": "display_data"
    },
    {
     "name": "stdout",
     "output_type": "stream",
     "text": [
      "Batch 1: (1/9) Mode Baseline Binary Classification P... Elapsed:00:00\n",
      "\tStarting cross validation\n",
      "\tFinished cross validation - mean AUC: 0.500\n",
      "Batch 1: (2/9) Logistic Regression Classifier w/ Imp... Elapsed:00:00\n",
      "\tStarting cross validation\n",
      "\tFinished cross validation - mean AUC: 0.838\n",
      "Batch 1: (3/9) Random Forest Classifier w/ Imputer +... Elapsed:00:06\n",
      "\tStarting cross validation\n",
      "\tFinished cross validation - mean AUC: 0.865\n",
      "Batch 1: (4/9) XGBoost Classifier w/ Imputer + One H... Elapsed:00:09\n",
      "\tStarting cross validation\n",
      "\tFinished cross validation - mean AUC: 0.871\n",
      "Batch 1: (5/9) CatBoost Classifier w/ Imputer           Elapsed:00:11\n",
      "\tStarting cross validation\n",
      "\tFinished cross validation - mean AUC: 0.847\n",
      "Batch 1: (6/9) Elastic Net Classifier w/ Imputer + O... Elapsed:00:12\n",
      "\tStarting cross validation\n",
      "\tFinished cross validation - mean AUC: 0.500\n",
      "Batch 1: (7/9) Extra Trees Classifier w/ Imputer + O... Elapsed:00:14\n",
      "\tStarting cross validation\n",
      "\tFinished cross validation - mean AUC: 0.845\n",
      "Batch 1: (8/9) LightGBM Classifier w/ Imputer + One ... Elapsed:00:16\n",
      "\tStarting cross validation\n",
      "\tFinished cross validation - mean AUC: 0.870\n",
      "Batch 1: (9/9) Decision Tree Classifier w/ Imputer +... Elapsed:00:18\n",
      "\tStarting cross validation\n",
      "\tFinished cross validation - mean AUC: 0.726\n",
      "High coefficient of variation (cv >= 0.2) within cross validation scores. Decision Tree Classifier w/ Imputer + One Hot Encoder may not perform as estimated on unseen data.\n",
      "\n",
      "Search finished after 00:19            \n",
      "Best pipeline: XGBoost Classifier w/ Imputer + One Hot Encoder\n",
      "Best pipeline AUC: 0.871193\n"
     ]
    }
   ],
   "source": [
    "automl_auc.search()"
   ]
  },
  {
   "cell_type": "code",
   "execution_count": 19,
   "id": "respective-virginia",
   "metadata": {},
   "outputs": [
    {
     "data": {
      "text/html": [
       "<div>\n",
       "<style scoped>\n",
       "    .dataframe tbody tr th:only-of-type {\n",
       "        vertical-align: middle;\n",
       "    }\n",
       "\n",
       "    .dataframe tbody tr th {\n",
       "        vertical-align: top;\n",
       "    }\n",
       "\n",
       "    .dataframe thead th {\n",
       "        text-align: right;\n",
       "    }\n",
       "</style>\n",
       "<table border=\"1\" class=\"dataframe\">\n",
       "  <thead>\n",
       "    <tr style=\"text-align: right;\">\n",
       "      <th></th>\n",
       "      <th>id</th>\n",
       "      <th>pipeline_name</th>\n",
       "      <th>score</th>\n",
       "      <th>validation_score</th>\n",
       "      <th>percent_better_than_baseline</th>\n",
       "      <th>high_variance_cv</th>\n",
       "      <th>parameters</th>\n",
       "    </tr>\n",
       "  </thead>\n",
       "  <tbody>\n",
       "    <tr>\n",
       "      <th>0</th>\n",
       "      <td>3</td>\n",
       "      <td>XGBoost Classifier w/ Imputer + One Hot Encoder</td>\n",
       "      <td>0.871193</td>\n",
       "      <td>0.875069</td>\n",
       "      <td>74.238628</td>\n",
       "      <td>False</td>\n",
       "      <td>{'Imputer': {'categorical_impute_strategy': 'm...</td>\n",
       "    </tr>\n",
       "    <tr>\n",
       "      <th>1</th>\n",
       "      <td>7</td>\n",
       "      <td>LightGBM Classifier w/ Imputer + One Hot Encoder</td>\n",
       "      <td>0.869615</td>\n",
       "      <td>0.877111</td>\n",
       "      <td>73.922916</td>\n",
       "      <td>False</td>\n",
       "      <td>{'Imputer': {'categorical_impute_strategy': 'm...</td>\n",
       "    </tr>\n",
       "    <tr>\n",
       "      <th>2</th>\n",
       "      <td>2</td>\n",
       "      <td>Random Forest Classifier w/ Imputer + One Hot ...</td>\n",
       "      <td>0.864655</td>\n",
       "      <td>0.867795</td>\n",
       "      <td>72.931006</td>\n",
       "      <td>False</td>\n",
       "      <td>{'Imputer': {'categorical_impute_strategy': 'm...</td>\n",
       "    </tr>\n",
       "    <tr>\n",
       "      <th>3</th>\n",
       "      <td>4</td>\n",
       "      <td>CatBoost Classifier w/ Imputer</td>\n",
       "      <td>0.847067</td>\n",
       "      <td>0.852940</td>\n",
       "      <td>69.413486</td>\n",
       "      <td>False</td>\n",
       "      <td>{'Imputer': {'categorical_impute_strategy': 'm...</td>\n",
       "    </tr>\n",
       "    <tr>\n",
       "      <th>4</th>\n",
       "      <td>6</td>\n",
       "      <td>Extra Trees Classifier w/ Imputer + One Hot En...</td>\n",
       "      <td>0.845074</td>\n",
       "      <td>0.858111</td>\n",
       "      <td>69.014730</td>\n",
       "      <td>False</td>\n",
       "      <td>{'Imputer': {'categorical_impute_strategy': 'm...</td>\n",
       "    </tr>\n",
       "    <tr>\n",
       "      <th>5</th>\n",
       "      <td>1</td>\n",
       "      <td>Logistic Regression Classifier w/ Imputer + On...</td>\n",
       "      <td>0.838197</td>\n",
       "      <td>0.852107</td>\n",
       "      <td>67.639415</td>\n",
       "      <td>False</td>\n",
       "      <td>{'Imputer': {'categorical_impute_strategy': 'm...</td>\n",
       "    </tr>\n",
       "    <tr>\n",
       "      <th>6</th>\n",
       "      <td>8</td>\n",
       "      <td>Decision Tree Classifier w/ Imputer + One Hot ...</td>\n",
       "      <td>0.725530</td>\n",
       "      <td>0.839576</td>\n",
       "      <td>45.105954</td>\n",
       "      <td>True</td>\n",
       "      <td>{'Imputer': {'categorical_impute_strategy': 'm...</td>\n",
       "    </tr>\n",
       "    <tr>\n",
       "      <th>7</th>\n",
       "      <td>0</td>\n",
       "      <td>Mode Baseline Binary Classification Pipeline</td>\n",
       "      <td>0.500000</td>\n",
       "      <td>0.500000</td>\n",
       "      <td>0.000000</td>\n",
       "      <td>False</td>\n",
       "      <td>{'Baseline Classifier': {'strategy': 'mode'}}</td>\n",
       "    </tr>\n",
       "    <tr>\n",
       "      <th>8</th>\n",
       "      <td>5</td>\n",
       "      <td>Elastic Net Classifier w/ Imputer + One Hot En...</td>\n",
       "      <td>0.500000</td>\n",
       "      <td>0.500000</td>\n",
       "      <td>0.000000</td>\n",
       "      <td>False</td>\n",
       "      <td>{'Imputer': {'categorical_impute_strategy': 'm...</td>\n",
       "    </tr>\n",
       "  </tbody>\n",
       "</table>\n",
       "</div>"
      ],
      "text/plain": [
       "   id  ...                                         parameters\n",
       "0   3  ...  {'Imputer': {'categorical_impute_strategy': 'm...\n",
       "1   7  ...  {'Imputer': {'categorical_impute_strategy': 'm...\n",
       "2   2  ...  {'Imputer': {'categorical_impute_strategy': 'm...\n",
       "3   4  ...  {'Imputer': {'categorical_impute_strategy': 'm...\n",
       "4   6  ...  {'Imputer': {'categorical_impute_strategy': 'm...\n",
       "5   1  ...  {'Imputer': {'categorical_impute_strategy': 'm...\n",
       "6   8  ...  {'Imputer': {'categorical_impute_strategy': 'm...\n",
       "7   0  ...      {'Baseline Classifier': {'strategy': 'mode'}}\n",
       "8   5  ...  {'Imputer': {'categorical_impute_strategy': 'm...\n",
       "\n",
       "[9 rows x 7 columns]"
      ]
     },
     "execution_count": 19,
     "metadata": {},
     "output_type": "execute_result"
    }
   ],
   "source": [
    "automl_auc.rankings"
   ]
  },
  {
   "cell_type": "code",
   "execution_count": 20,
   "id": "tough-argument",
   "metadata": {},
   "outputs": [],
   "source": [
    "best_pipeline_auc = automl_auc.best_pipeline"
   ]
  },
  {
   "cell_type": "code",
   "execution_count": 21,
   "id": "swedish-syndrome",
   "metadata": {},
   "outputs": [
    {
     "data": {
      "text/plain": [
       "OrderedDict([('AUC', 0.8693586461548277),\n",
       "             ('Fraud Cost', 0.029556847741088976)])"
      ]
     },
     "execution_count": 21,
     "metadata": {},
     "output_type": "execute_result"
    }
   ],
   "source": [
    "best_pipeline_auc.score(features_test,target_test,objectives=['auc',fraud_objectives])"
   ]
  },
  {
   "cell_type": "code",
   "execution_count": 22,
   "id": "guided-affiliation",
   "metadata": {},
   "outputs": [
    {
     "data": {
      "text/plain": [
       "OrderedDict([('AUC', 0.8680626998747917),\n",
       "             ('Fraud Cost', 0.0014668699644176933)])"
      ]
     },
     "execution_count": 22,
     "metadata": {},
     "output_type": "execute_result"
    }
   ],
   "source": [
    "best_pipeline.score(features_test,target_test,objectives=['auc',fraud_objectives])"
   ]
  },
  {
   "cell_type": "code",
   "execution_count": null,
   "id": "sharing-karen",
   "metadata": {},
   "outputs": [],
   "source": []
  }
 ],
 "metadata": {
  "kernelspec": {
   "display_name": "Python 3",
   "language": "python",
   "name": "python3"
  },
  "language_info": {
   "codemirror_mode": {
    "name": "ipython",
    "version": 3
   },
   "file_extension": ".py",
   "mimetype": "text/x-python",
   "name": "python",
   "nbconvert_exporter": "python",
   "pygments_lexer": "ipython3",
   "version": "3.7.9"
  }
 },
 "nbformat": 4,
 "nbformat_minor": 5
}
